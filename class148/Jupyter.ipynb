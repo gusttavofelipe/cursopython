{
 "cells": [
  {
   "cell_type": "code",
   "execution_count": 1,
   "id": "54cc4e87",
   "metadata": {},
   "outputs": [],
   "source": [
    "lista = [1,2,3,4,5,6,7,8,9]"
   ]
  },
  {
   "cell_type": "code",
   "execution_count": 2,
   "id": "a4aa8a76",
   "metadata": {},
   "outputs": [
    {
     "data": {
      "text/plain": [
       "[1, 2, 3, 4, 5, 6, 7, 8, 9]"
      ]
     },
     "execution_count": 2,
     "metadata": {},
     "output_type": "execute_result"
    }
   ],
   "source": [
    "lista"
   ]
  },
  {
   "cell_type": "code",
   "execution_count": 2,
   "id": "9b4479c5",
   "metadata": {},
   "outputs": [],
   "source": [
    "a = 21\n",
    "b = 68"
   ]
  },
  {
   "cell_type": "code",
   "execution_count": 3,
   "id": "03ecc74f",
   "metadata": {},
   "outputs": [
    {
     "data": {
      "text/plain": [
       "89"
      ]
     },
     "execution_count": 3,
     "metadata": {},
     "output_type": "execute_result"
    }
   ],
   "source": [
    "a + b"
   ]
  },
  {
   "cell_type": "markdown",
   "id": "f1291928",
   "metadata": {},
   "source": [
    "# Aula - Jupyter Notebook\n",
    "## Codando em Python\n",
    "### Usando Markdown para explicar o código"
   ]
  },
  {
   "cell_type": "code",
   "execution_count": 5,
   "id": "8120cee7",
   "metadata": {},
   "outputs": [
    {
     "data": {
      "text/html": [
       "<p> <strong>Utilizando HTML<strong> <p> \n"
      ],
      "text/plain": [
       "<IPython.core.display.HTML object>"
      ]
     },
     "metadata": {},
     "output_type": "display_data"
    }
   ],
   "source": [
    "%%HTML \n",
    "<p> <strong>Utilizando HTML<strong> <p> "
   ]
  },
  {
   "cell_type": "code",
   "execution_count": null,
   "id": "fc8de5ce",
   "metadata": {},
   "outputs": [],
   "source": []
  }
 ],
 "metadata": {
  "kernelspec": {
   "display_name": "Python 3.10.4 64-bit ('cursopython-10')",
   "language": "python",
   "name": "python3"
  },
  "language_info": {
   "codemirror_mode": {
    "name": "ipython",
    "version": 3
   },
   "file_extension": ".py",
   "mimetype": "text/x-python",
   "name": "python",
   "nbconvert_exporter": "python",
   "pygments_lexer": "ipython3",
   "version": "3.10.4"
  },
  "vscode": {
   "interpreter": {
    "hash": "7555d55a5771afa21e588e5dc2afcdbb1b814f730bb1dbb334821826718f44c1"
   }
  }
 },
 "nbformat": 4,
 "nbformat_minor": 5
}
